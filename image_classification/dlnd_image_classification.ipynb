{
 "cells": [
  {
   "cell_type": "markdown",
   "metadata": {
    "collapsed": true,
    "deletable": true,
    "editable": true
   },
   "source": [
    "# Image Classification\n",
    "In this project, you'll classify images from the [CIFAR-10 dataset](https://www.cs.toronto.edu/~kriz/cifar.html).  The dataset consists of airplanes, dogs, cats, and other objects. You'll preprocess the images, then train a convolutional neural network on all the samples. The images need to be normalized and the labels need to be one-hot encoded.  You'll get to apply what you learned and build a convolutional, max pooling, dropout, and fully connected layers.  At the end, you'll get to see your neural network's predictions on the sample images.\n",
    "## Get the Data\n",
    "Run the following cell to download the [CIFAR-10 dataset for python](https://www.cs.toronto.edu/~kriz/cifar-10-python.tar.gz)."
   ]
  },
  {
   "cell_type": "code",
   "execution_count": 2,
   "metadata": {
    "collapsed": false,
    "deletable": true,
    "editable": true
   },
   "outputs": [
    {
     "name": "stdout",
     "output_type": "stream",
     "text": [
      "All files found!\n"
     ]
    }
   ],
   "source": [
    "\"\"\"\n",
    "DON'T MODIFY ANYTHING IN THIS CELL THAT IS BELOW THIS LINE\n",
    "\"\"\"\n",
    "from urllib.request import urlretrieve\n",
    "from os.path import isfile, isdir\n",
    "from tqdm import tqdm\n",
    "import problem_unittests as tests\n",
    "import tarfile\n",
    "\n",
    "cifar10_dataset_folder_path = 'cifar-10-batches-py'\n",
    "\n",
    "# Use Floyd's cifar-10 dataset if present\n",
    "floyd_cifar10_location = '/input/cifar-10/python.tar.gz'\n",
    "if isfile(floyd_cifar10_location):\n",
    "    tar_gz_path = floyd_cifar10_location\n",
    "else:\n",
    "    tar_gz_path = 'cifar-10-python.tar.gz'\n",
    "\n",
    "class DLProgress(tqdm):\n",
    "    last_block = 0\n",
    "\n",
    "    def hook(self, block_num=1, block_size=1, total_size=None):\n",
    "        self.total = total_size\n",
    "        self.update((block_num - self.last_block) * block_size)\n",
    "        self.last_block = block_num\n",
    "\n",
    "if not isfile(tar_gz_path):\n",
    "    with DLProgress(unit='B', unit_scale=True, miniters=1, desc='CIFAR-10 Dataset') as pbar:\n",
    "        urlretrieve(\n",
    "            'https://www.cs.toronto.edu/~kriz/cifar-10-python.tar.gz',\n",
    "            tar_gz_path,\n",
    "            pbar.hook)\n",
    "\n",
    "if not isdir(cifar10_dataset_folder_path):\n",
    "    with tarfile.open(tar_gz_path) as tar:\n",
    "        tar.extractall()\n",
    "        tar.close()\n",
    "\n",
    "\n",
    "tests.test_folder_path(cifar10_dataset_folder_path)"
   ]
  },
  {
   "cell_type": "markdown",
   "metadata": {
    "deletable": true,
    "editable": true
   },
   "source": [
    "## Explore the Data\n",
    "The dataset is broken into batches to prevent your machine from running out of memory.  The CIFAR-10 dataset consists of 5 batches, named `data_batch_1`, `data_batch_2`, etc.. Each batch contains the labels and images that are one of the following:\n",
    "* airplane\n",
    "* automobile\n",
    "* bird\n",
    "* cat\n",
    "* deer\n",
    "* dog\n",
    "* frog\n",
    "* horse\n",
    "* ship\n",
    "* truck\n",
    "\n",
    "Understanding a dataset is part of making predictions on the data.  Play around with the code cell below by changing the `batch_id` and `sample_id`. The `batch_id` is the id for a batch (1-5). The `sample_id` is the id for a image and label pair in the batch.\n",
    "\n",
    "Ask yourself \"What are all possible labels?\", \"What is the range of values for the image data?\", \"Are the labels in order or random?\".  Answers to questions like these will help you preprocess the data and end up with better predictions."
   ]
  },
  {
   "cell_type": "code",
   "execution_count": 3,
   "metadata": {
    "collapsed": false,
    "deletable": true,
    "editable": true
   },
   "outputs": [
    {
     "name": "stdout",
     "output_type": "stream",
     "text": [
      "\n",
      "Stats of batch 1:\n",
      "Samples: 10000\n",
      "Label Counts: {0: 1005, 1: 974, 2: 1032, 3: 1016, 4: 999, 5: 937, 6: 1030, 7: 1001, 8: 1025, 9: 981}\n",
      "First 20 Labels: [6, 9, 9, 4, 1, 1, 2, 7, 8, 3, 4, 7, 7, 2, 9, 9, 9, 3, 2, 6]\n",
      "\n",
      "Example of Image 307:\n",
      "Image - Min Value: 0 Max Value: 255\n",
      "Image - Shape: (32, 32, 3)\n",
      "Label - Label Id: 9 Name: truck\n"
     ]
    },
    {
     "data": {
      "image/png": "[encoded data removed]",
      "text/plain": [
       "<matplotlib.figure.Figure at 0x7f800b190518>"
      ]
     },
     "metadata": {
      "image/png": {
       "height": 250,
       "width": 253
      }
     },
     "output_type": "display_data"
    }
   ],
   "source": [
    "%matplotlib inline\n",
    "%config InlineBackend.figure_format = 'retina'\n",
    "\n",
    "import helper\n",
    "import numpy as np\n",
    "\n",
    "# Explore the dataset\n",
    "batch_id = 1\n",
    "sample_id = 307\n",
    "helper.display_stats(cifar10_dataset_folder_path, batch_id, sample_id)"
   ]
  },
  {
   "cell_type": "markdown",
   "metadata": {
    "deletable": true,
    "editable": true
   },
   "source": [
    "## Implement Preprocess Functions\n",
    "### Normalize\n",
    "In the cell below, implement the `normalize` function to take in image data, `x`, and return it as a normalized Numpy array. The values should be in the range of 0 to 1, inclusive.  The return object should be the same shape as `x`."
   ]
  },
  {
   "cell_type": "code",
   "execution_count": 4,
   "metadata": {
    "collapsed": false,
    "deletable": true,
    "editable": true
   },
   "outputs": [
    {
     "name": "stdout",
     "output_type": "stream",
     "text": [
      "Tests Passed\n"
     ]
    }
   ],
   "source": [
    "def normalize(x):\n",
    "    \"\"\"\n",
    "    Normalize a list of sample image data in the range of 0 to 1\n",
    "    : x: List of image data.  The image shape is (32, 32, 3)\n",
    "    : return: Numpy array of normalize data\n",
    "    \"\"\"\n",
    "    # TODO: Implement Function\n",
    "    return x / x.max()\n",
    "\n",
    "\n",
    "\"\"\"\n",
    "DON'T MODIFY ANYTHING IN THIS CELL THAT IS BELOW THIS LINE\n",
    "\"\"\"\n",
    "tests.test_normalize(normalize)"
   ]
  },
  {
   "cell_type": "markdown",
   "metadata": {
    "deletable": true,
    "editable": true
   },
   "source": [
    "### One-hot encode\n",
    "Just like the previous code cell, you'll be implementing a function for preprocessing.  This time, you'll implement the `one_hot_encode` function. The input, `x`, are a list of labels.  Implement the function to return the list of labels as One-Hot encoded Numpy array.  The possible values for labels are 0 to 9. The one-hot encoding function should return the same encoding for each value between each call to `one_hot_encode`.  Make sure to save the map of encodings outside the function.\n",
    "\n",
    "Hint: Don't reinvent the wheel."
   ]
  },
  {
   "cell_type": "code",
   "execution_count": 5,
   "metadata": {
    "collapsed": false,
    "deletable": true,
    "editable": true
   },
   "outputs": [
    {
     "name": "stdout",
     "output_type": "stream",
     "text": [
      "Tests Passed\n"
     ]
    }
   ],
   "source": [
    "from sklearn.preprocessing import OneHotEncoder\n",
    "number_categories = 10\n",
    "encoder = OneHotEncoder(sparse=False, n_values=number_categories)\n",
    "def one_hot_encode(x):\n",
    "    \"\"\"\n",
    "    One hot encode a list of sample labels. Return a one-hot encoded vector for each label.\n",
    "    : x: List of sample Labels\n",
    "    : return: Numpy array of one-hot encoded labels\n",
    "    \"\"\"\n",
    "    # TODO: Implement Function\n",
    "    x = np.array(x)\n",
    "    return encoder.fit_transform(x.reshape(len(x), 1))\n",
    "\n",
    "\n",
    "\"\"\"\n",
    "DON'T MODIFY ANYTHING IN THIS CELL THAT IS BELOW THIS LINE\n",
    "\"\"\"\n",
    "tests.test_one_hot_encode(one_hot_encode)"
   ]
  },
  {
   "cell_type": "markdown",
   "metadata": {
    "deletable": true,
    "editable": true
   },
   "source": [
    "### Randomize Data\n",
    "As you saw from exploring the data above, the order of the samples are randomized.  It doesn't hurt to randomize it again, but you don't need to for this dataset."
   ]
  },
  {
   "cell_type": "markdown",
   "metadata": {
    "deletable": true,
    "editable": true
   },
   "source": [
    "## Preprocess all the data and save it\n",
    "Running the code cell below will preprocess all the CIFAR-10 data and save it to file. The code below also uses 10% of the training data for validation."
   ]
  },
  {
   "cell_type": "code",
   "execution_count": 6,
   "metadata": {
    "collapsed": false,
    "deletable": true,
    "editable": true
   },
   "outputs": [],
   "source": [
    "\"\"\"\n",
    "DON'T MODIFY ANYTHING IN THIS CELL\n",
    "\"\"\"\n",
    "# Preprocess Training, Validation, and Testing Data\n",
    "helper.preprocess_and_save_data(cifar10_dataset_folder_path, normalize, one_hot_encode)"
   ]
  },
  {
   "cell_type": "markdown",
   "metadata": {
    "deletable": true,
    "editable": true
   },
   "source": [
    "# Check Point\n",
    "This is your first checkpoint.  If you ever decide to come back to this notebook or have to restart the notebook, you can start from here.  The preprocessed data has been saved to disk."
   ]
  },
  {
   "cell_type": "code",
   "execution_count": 7,
   "metadata": {
    "collapsed": true,
    "deletable": true,
    "editable": true
   },
   "outputs": [],
   "source": [
    "\"\"\"\n",
    "DON'T MODIFY ANYTHING IN THIS CELL\n",
    "\"\"\"\n",
    "import pickle\n",
    "import problem_unittests as tests\n",
    "import helper\n",
    "\n",
    "# Load the Preprocessed Validation data\n",
    "valid_features, valid_labels = pickle.load(open('preprocess_validation.p', mode='rb'))"
   ]
  },
  {
   "cell_type": "markdown",
   "metadata": {
    "deletable": true,
    "editable": true
   },
   "source": [
    "## Build the network\n",
    "For the neural network, you'll build each layer into a function.  Most of the code you've seen has been outside of functions. To test your code more thoroughly, we require that you put each layer in a function.  This allows us to give you better feedback and test for simple mistakes using our unittests before you submit your project.\n",
    "\n",
    ">**Note:** If you're finding it hard to dedicate enough time for this course each week, we've provided a small shortcut to this part of the project. In the next couple of problems, you'll have the option to use classes from the [TensorFlow Layers](https://www.tensorflow.org/api_docs/python/tf/layers) or [TensorFlow Layers (contrib)](https://www.tensorflow.org/api_guides/python/contrib.layers) packages to build each layer, except the layers you build in the \"Convolutional and Max Pooling Layer\" section.  TF Layers is similar to Keras's and TFLearn's abstraction to layers, so it's easy to pickup.\n",
    "\n",
    ">However, if you would like to get the most out of this course, try to solve all the problems _without_ using anything from the TF Layers packages. You **can** still use classes from other packages that happen to have the same name as ones you find in TF Layers! For example, instead of using the TF Layers version of the `conv2d` class, [tf.layers.conv2d](https://www.tensorflow.org/api_docs/python/tf/layers/conv2d), you would want to use the TF Neural Network version of `conv2d`, [tf.nn.conv2d](https://www.tensorflow.org/api_docs/python/tf/nn/conv2d). \n",
    "\n",
    "Let's begin!\n",
    "\n",
    "### Input\n",
    "The neural network needs to read the image data, one-hot encoded labels, and dropout keep probability. Implement the following functions\n",
    "* Implement `neural_net_image_input`\n",
    " * Return a [TF Placeholder](https://www.tensorflow.org/api_docs/python/tf/placeholder)\n",
    " * Set the shape using `image_shape` with batch size set to `None`.\n",
    " * Name the TensorFlow placeholder \"x\" using the TensorFlow `name` parameter in the [TF Placeholder](https://www.tensorflow.org/api_docs/python/tf/placeholder).\n",
    "* Implement `neural_net_label_input`\n",
    " * Return a [TF Placeholder](https://www.tensorflow.org/api_docs/python/tf/placeholder)\n",
    " * Set the shape using `n_classes` with batch size set to `None`.\n",
    " * Name the TensorFlow placeholder \"y\" using the TensorFlow `name` parameter in the [TF Placeholder](https://www.tensorflow.org/api_docs/python/tf/placeholder).\n",
    "* Implement `neural_net_keep_prob_input`\n",
    " * Return a [TF Placeholder](https://www.tensorflow.org/api_docs/python/tf/placeholder) for dropout keep probability.\n",
    " * Name the TensorFlow placeholder \"keep_prob\" using the TensorFlow `name` parameter in the [TF Placeholder](https://www.tensorflow.org/api_docs/python/tf/placeholder).\n",
    "\n",
    "These names will be used at the end of the project to load your saved model.\n",
    "\n",
    "Note: `None` for shapes in TensorFlow allow for a dynamic size."
   ]
  },
  {
   "cell_type": "code",
   "execution_count": 8,
   "metadata": {
    "collapsed": false,
    "deletable": true,
    "editable": true
   },
   "outputs": [
    {
     "name": "stdout",
     "output_type": "stream",
     "text": [
      "Image Input Tests Passed.\n",
      "Label Input Tests Passed.\n",
      "Keep Prob Tests Passed.\n"
     ]
    }
   ],
   "source": [
    "import tensorflow as tf\n",
    "\n",
    "def neural_net_image_input(image_shape):\n",
    "    \"\"\"\n",
    "    Return a Tensor for a batch of image input\n",
    "    : image_shape: Shape of the images\n",
    "    : return: Tensor for image input.\n",
    "    \"\"\"\n",
    "    # TODO: Implement Function\n",
    "    return tf.placeholder(tf.float32, shape=[None, image_shape[0], image_shape[1], image_shape[2]], name=\"x\")\n",
    "\n",
    "\n",
    "def neural_net_label_input(n_classes):\n",
    "    \"\"\"\n",
    "    Return a Tensor for a batch of label input\n",
    "    : n_classes: Number of classes\n",
    "    : return: Tensor for label input.\n",
    "    \"\"\"\n",
    "    # TODO: Implement Function\n",
    "    return tf.placeholder(tf.float32, shape=[None, n_classes], name=\"y\")\n",
    "\n",
    "\n",
    "def neural_net_keep_prob_input():\n",
    "    \"\"\"\n",
    "    Return a Tensor for keep probability\n",
    "    : return: Tensor for keep probability.\n",
    "    \"\"\"\n",
    "    # TODO: Implement Function\n",
    "    return tf.placeholder(tf.float32, name=\"keep_prob\")\n",
    "\n",
    "\n",
    "\"\"\"\n",
    "DON'T MODIFY ANYTHING IN THIS CELL THAT IS BELOW THIS LINE\n",
    "\"\"\"\n",
    "tf.reset_default_graph()\n",
    "tests.test_nn_image_inputs(neural_net_image_input)\n",
    "tests.test_nn_label_inputs(neural_net_label_input)\n",
    "tests.test_nn_keep_prob_inputs(neural_net_keep_prob_input)"
   ]
  },
  {
   "cell_type": "markdown",
   "metadata": {
    "deletable": true,
    "editable": true
   },
   "source": [
    "### Convolution and Max Pooling Layer\n",
    "Convolution layers have a lot of success with images. For this code cell, you should implement the function `conv2d_maxpool` to apply convolution then max pooling:\n",
    "* Create the weight and bias using `conv_ksize`, `conv_num_outputs` and the shape of `x_tensor`.\n",
    "* Apply a convolution to `x_tensor` using weight and `conv_strides`.\n",
    " * We recommend you use same padding, but you're welcome to use any padding.\n",
    "* Add bias\n",
    "* Add a nonlinear activation to the convolution.\n",
    "* Apply Max Pooling using `pool_ksize` and `pool_strides`.\n",
    " * We recommend you use same padding, but you're welcome to use any padding.\n",
    "\n",
    "**Note:** You **can't** use [TensorFlow Layers](https://www.tensorflow.org/api_docs/python/tf/layers) or [TensorFlow Layers (contrib)](https://www.tensorflow.org/api_guides/python/contrib.layers) for **this** layer, but you can still use TensorFlow's [Neural Network](https://www.tensorflow.org/api_docs/python/tf/nn) package. You may still use the shortcut option for all the **other** layers."
   ]
  },
  {
   "cell_type": "code",
   "execution_count": 23,
   "metadata": {
    "collapsed": false,
    "deletable": true,
    "editable": true
   },
   "outputs": [
    {
     "name": "stdout",
     "output_type": "stream",
     "text": [
      "Tests Passed\n"
     ]
    }
   ],
   "source": [
    "def conv2d_maxpool(x_tensor, conv_num_outputs, conv_ksize, conv_strides, pool_ksize, pool_strides):\n",
    "    \"\"\"\n",
    "    Apply convolution then max pooling to x_tensor\n",
    "    :param x_tensor: TensorFlow Tensor\n",
    "    :param conv_num_outputs: Number of outputs for the convolutional layer\n",
    "    :param conv_ksize: kernal size 2-D Tuple for the convolutional layer\n",
    "    :param conv_strides: Stride 2-D Tuple for convolution\n",
    "    :param pool_ksize: kernal size 2-D Tuple for pool\n",
    "    :param pool_strides: Stride 2-D Tuple for pool\n",
    "    : return: A tensor that represents convolution and max pooling of x_tensor\n",
    "    \"\"\"\n",
    "    # TODO: Implement Function\n",
    "    weight = tf.Variable(tf.truncated_normal(\n",
    "        [conv_ksize[0], conv_ksize[1], x_tensor.shape[3].value, conv_num_outputs], mean=0, stddev=0.1))\n",
    "    bias = tf.Variable(tf.zeros(conv_num_outputs))\n",
    "\n",
    "    conv_layer = tf.nn.conv2d(x_tensor, weight, strides=[1, conv_strides[0], conv_strides[1], 1], padding='SAME')\n",
    "    conv_layer = tf.nn.bias_add(conv_layer, bias)\n",
    "    conv_layer = tf.nn.relu(conv_layer)\n",
    "    conv_layer = tf.nn.max_pool(\n",
    "        conv_layer,\n",
    "        ksize=[1, pool_ksize[0], pool_ksize[1], 1],\n",
    "        strides=[1, pool_strides[0], pool_strides[1], 1],\n",
    "        padding='SAME')\n",
    "    return conv_layer\n",
    "\n",
    "\n",
    "\"\"\"\n",
    "DON'T MODIFY ANYTHING IN THIS CELL THAT IS BELOW THIS LINE\n",
    "\"\"\"\n",
    "tests.test_con_pool(conv2d_maxpool)"
   ]
  },
  {
   "cell_type": "markdown",
   "metadata": {
    "deletable": true,
    "editable": true
   },
   "source": [
    "### Flatten Layer\n",
    "Implement the `flatten` function to change the dimension of `x_tensor` from a 4-D tensor to a 2-D tensor.  The output should be the shape (*Batch Size*, *Flattened Image Size*). Shortcut option: you can use classes from the [TensorFlow Layers](https://www.tensorflow.org/api_docs/python/tf/layers) or [TensorFlow Layers (contrib)](https://www.tensorflow.org/api_guides/python/contrib.layers) packages for this layer. For more of a challenge, only use other TensorFlow packages."
   ]
  },
  {
   "cell_type": "code",
   "execution_count": 24,
   "metadata": {
    "collapsed": false,
    "deletable": true,
    "editable": true
   },
   "outputs": [
    {
     "name": "stdout",
     "output_type": "stream",
     "text": [
      "Tests Passed\n"
     ]
    }
   ],
   "source": [
    "def flatten(x_tensor):\n",
    "    \"\"\"\n",
    "    Flatten x_tensor to (Batch Size, Flattened Image Size)\n",
    "    : x_tensor: A tensor of size (Batch Size, ...), where ... are the image dimensions.\n",
    "    : return: A tensor of size (Batch Size, Flattened Image Size).\n",
    "    \"\"\"\n",
    "    # TODO: Implement Function\n",
    "    return tf.reshape(x_tensor, [-1, \n",
    "        x_tensor.shape[1].value * x_tensor.shape[2].value * x_tensor.shape[3].value])\n",
    "\n",
    "\"\"\"\n",
    "DON'T MODIFY ANYTHING IN THIS CELL THAT IS BELOW THIS LINE\n",
    "\"\"\"\n",
    "tests.test_flatten(flatten)"
   ]
  },
  {
   "cell_type": "markdown",
   "metadata": {
    "deletable": true,
    "editable": true
   },
   "source": [
    "### Fully-Connected Layer\n",
    "Implement the `fully_conn` function to apply a fully connected layer to `x_tensor` with the shape (*Batch Size*, *num_outputs*). Shortcut option: you can use classes from the [TensorFlow Layers](https://www.tensorflow.org/api_docs/python/tf/layers) or [TensorFlow Layers (contrib)](https://www.tensorflow.org/api_guides/python/contrib.layers) packages for this layer. For more of a challenge, only use other TensorFlow packages."
   ]
  },
  {
   "cell_type": "code",
   "execution_count": 25,
   "metadata": {
    "collapsed": false,
    "deletable": true,
    "editable": true
   },
   "outputs": [
    {
     "name": "stdout",
     "output_type": "stream",
     "text": [
      "Tests Passed\n"
     ]
    }
   ],
   "source": [
    "def fully_conn(x_tensor, num_outputs):\n",
    "    \"\"\"\n",
    "    Apply a fully connected layer to x_tensor using weight and bias\n",
    "    : x_tensor: A 2-D tensor where the first dimension is batch size.\n",
    "    : num_outputs: The number of output that the new tensor should be.\n",
    "    : return: A 2-D tensor where the second dimension is num_outputs.\n",
    "    \"\"\"\n",
    "    # TODO: Implement Function\n",
    "    weights = tf.Variable(\n",
    "        tf.truncated_normal([x_tensor.shape[1].value, num_outputs], mean=0, stddev=0.1))\n",
    "    bias = tf.Variable(tf.zeros([num_outputs]))\n",
    "    product = tf.matmul(x_tensor, weights)\n",
    "    connected_layer = tf.nn.relu(tf.add(product, bias))        \n",
    "    return connected_layer\n",
    "\n",
    "\n",
    "\"\"\"\n",
    "DON'T MODIFY ANYTHING IN THIS CELL THAT IS BELOW THIS LINE\n",
    "\"\"\"\n",
    "tests.test_fully_conn(fully_conn)"
   ]
  },
  {
   "cell_type": "markdown",
   "metadata": {
    "deletable": true,
    "editable": true
   },
   "source": [
    "### Output Layer\n",
    "Implement the `output` function to apply a fully connected layer to `x_tensor` with the shape (*Batch Size*, *num_outputs*). Shortcut option: you can use classes from the [TensorFlow Layers](https://www.tensorflow.org/api_docs/python/tf/layers) or [TensorFlow Layers (contrib)](https://www.tensorflow.org/api_guides/python/contrib.layers) packages for this layer. For more of a challenge, only use other TensorFlow packages.\n",
    "\n",
    "**Note:** Activation, softmax, or cross entropy should **not** be applied to this."
   ]
  },
  {
   "cell_type": "code",
   "execution_count": 26,
   "metadata": {
    "collapsed": false,
    "deletable": true,
    "editable": true
   },
   "outputs": [
    {
     "name": "stdout",
     "output_type": "stream",
     "text": [
      "Tests Passed\n"
     ]
    }
   ],
   "source": [
    "def output(x_tensor, num_outputs):\n",
    "    \"\"\"\n",
    "    Apply a output layer to x_tensor using weight and bias\n",
    "    : x_tensor: A 2-D tensor where the first dimension is batch size.\n",
    "    : num_outputs: The number of output that the new tensor should be.\n",
    "    : return: A 2-D tensor where the second dimension is num_outputs.\n",
    "    \"\"\"\n",
    "    # TODO: Implement Function\n",
    "    weights = tf.Variable(tf.truncated_normal([x_tensor.shape[1].value, num_outputs]))\n",
    "    bias = tf.Variable(tf.zeros([num_outputs]))   \n",
    "    return tf.add(tf.matmul(x_tensor, weights), bias)\n",
    "\n",
    "\n",
    "\"\"\"\n",
    "DON'T MODIFY ANYTHING IN THIS CELL THAT IS BELOW THIS LINE\n",
    "\"\"\"\n",
    "tests.test_output(output)"
   ]
  },
  {
   "cell_type": "markdown",
   "metadata": {
    "deletable": true,
    "editable": true
   },
   "source": [
    "### Create Convolutional Model\n",
    "Implement the function `conv_net` to create a convolutional neural network model. The function takes in a batch of images, `x`, and outputs logits.  Use the layers you created above to create this model:\n",
    "\n",
    "* Apply 1, 2, or 3 Convolution and Max Pool layers\n",
    "* Apply a Flatten Layer\n",
    "* Apply 1, 2, or 3 Fully Connected Layers\n",
    "* Apply an Output Layer\n",
    "* Return the output\n",
    "* Apply [TensorFlow's Dropout](https://www.tensorflow.org/api_docs/python/tf/nn/dropout) to one or more layers in the model using `keep_prob`. "
   ]
  },
  {
   "cell_type": "code",
   "execution_count": 50,
   "metadata": {
    "collapsed": false,
    "deletable": true,
    "editable": true
   },
   "outputs": [
    {
     "name": "stdout",
     "output_type": "stream",
     "text": [
      "Neural Network Built!\n"
     ]
    }
   ],
   "source": [
    "def conv_net(x, keep_prob):\n",
    "    \"\"\"\n",
    "    Create a convolutional neural network model\n",
    "    : x: Placeholder tensor that holds image data.\n",
    "    : keep_prob: Placeholder tensor that hold dropout keep probability.\n",
    "    : return: Tensor that represents logits\n",
    "    \"\"\"\n",
    "    # TODO: Apply 1, 2, or 3 Convolution and Max Pool layers\n",
    "    #    Play around with different number of outputs, kernel size and stride\n",
    "    # Function Definition from Above:\n",
    "    #    conv2d_maxpool(x_tensor, conv_num_outputs, conv_ksize, conv_strides, pool_ksize, pool_strides)\n",
    "    output_number = 10\n",
    "    \n",
    "    conv_num_outputs = 64\n",
    "    conv_ksize = (3, 3)\n",
    "    conv_strides = (1, 1)\n",
    "    pool_ksize = (2, 2)\n",
    "    pool_strides = (2, 2)\n",
    "    \n",
    "    x = conv2d_maxpool(\n",
    "        x, int(conv_num_outputs / 4), conv_ksize, conv_strides, pool_ksize, pool_strides)\n",
    "    x = conv2d_maxpool(\n",
    "        x, int(conv_num_outputs / 2), conv_ksize, conv_strides, pool_ksize, pool_strides)\n",
    "    x = conv2d_maxpool(\n",
    "        x, conv_num_outputs, conv_ksize, conv_strides, pool_ksize, pool_strides)\n",
    "\n",
    "    # TODO: Apply a Flatten Layer\n",
    "    # Function Definition from Above:\n",
    "    #   flatten(x_tensor)\n",
    "    x = flatten(x)\n",
    "    \n",
    "\n",
    "    # TODO: Apply 1, 2, or 3 Fully Connected Layers\n",
    "    #    Play around with different number of outputs\n",
    "    # Function Definition from Above:\n",
    "    #   fully_conn(x_tensor, num_outputs)\n",
    "    fc = fully_conn(x, 256)\n",
    "    fc = tf.nn.dropout(fc, keep_prob)\n",
    "    fc = fully_conn(x, 128)\n",
    "    fc = tf.nn.dropout(fc, keep_prob)\n",
    "    \n",
    "    # TODO: Apply an Output Layer\n",
    "    #    Set this to the number of classes\n",
    "    # Function Definition from Above:\n",
    "    #   output(x_tensor, num_outputs)\n",
    "    output_layer = output(fc, output_number)\n",
    "    \n",
    "    # TODO: return output\n",
    "    return output_layer\n",
    "\n",
    "\n",
    "\"\"\"\n",
    "DON'T MODIFY ANYTHING IN THIS CELL THAT IS BELOW THIS LINE\n",
    "\"\"\"\n",
    "\n",
    "##############################\n",
    "## Build the Neural Network ##\n",
    "##############################\n",
    "\n",
    "# Remove previous weights, bias, inputs, etc..\n",
    "tf.reset_default_graph()\n",
    "\n",
    "# Inputs\n",
    "x = neural_net_image_input((32, 32, 3))\n",
    "y = neural_net_label_input(10)\n",
    "keep_prob = neural_net_keep_prob_input()\n",
    "\n",
    "# Model\n",
    "logits = conv_net(x, keep_prob)\n",
    "\n",
    "# Name logits Tensor, so that is can be loaded from disk after training\n",
    "logits = tf.identity(logits, name='logits')\n",
    "\n",
    "# Loss and Optimizer\n",
    "cost = tf.reduce_mean(tf.nn.softmax_cross_entropy_with_logits(logits=logits, labels=y))\n",
    "optimizer = tf.train.AdamOptimizer().minimize(cost)\n",
    "\n",
    "# Accuracy\n",
    "correct_pred = tf.equal(tf.argmax(logits, 1), tf.argmax(y, 1))\n",
    "accuracy = tf.reduce_mean(tf.cast(correct_pred, tf.float32), name='accuracy')\n",
    "\n",
    "tests.test_conv_net(conv_net)"
   ]
  },
  {
   "cell_type": "markdown",
   "metadata": {
    "deletable": true,
    "editable": true
   },
   "source": [
    "## Train the Neural Network\n",
    "### Single Optimization\n",
    "Implement the function `train_neural_network` to do a single optimization.  The optimization should use `optimizer` to optimize in `session` with a `feed_dict` of the following:\n",
    "* `x` for image input\n",
    "* `y` for labels\n",
    "* `keep_prob` for keep probability for dropout\n",
    "\n",
    "This function will be called for each batch, so `tf.global_variables_initializer()` has already been called.\n",
    "\n",
    "Note: Nothing needs to be returned. This function is only optimizing the neural network."
   ]
  },
  {
   "cell_type": "code",
   "execution_count": 19,
   "metadata": {
    "collapsed": false,
    "deletable": true,
    "editable": true
   },
   "outputs": [
    {
     "name": "stdout",
     "output_type": "stream",
     "text": [
      "Tests Passed\n"
     ]
    }
   ],
   "source": [
    "def train_neural_network(session, optimizer, keep_probability, feature_batch, label_batch):\n",
    "    \"\"\"\n",
    "    Optimize the session on a batch of images and labels\n",
    "    : session: Current TensorFlow session\n",
    "    : optimizer: TensorFlow optimizer function\n",
    "    : keep_probability: keep probability\n",
    "    : feature_batch: Batch of Numpy image data\n",
    "    : label_batch: Batch of Numpy label data\n",
    "    \"\"\"\n",
    "    # TODO: Implement Function\n",
    "    session.run(optimizer, {x: feature_batch, y: label_batch, keep_prob: keep_probability})\n",
    "\n",
    "\n",
    "\"\"\"\n",
    "DON'T MODIFY ANYTHING IN THIS CELL THAT IS BELOW THIS LINE\n",
    "\"\"\"\n",
    "tests.test_train_nn(train_neural_network)"
   ]
  },
  {
   "cell_type": "markdown",
   "metadata": {
    "deletable": true,
    "editable": true
   },
   "source": [
    "### Show Stats\n",
    "Implement the function `print_stats` to print loss and validation accuracy.  Use the global variables `valid_features` and `valid_labels` to calculate validation accuracy.  Use a keep probability of `1.0` to calculate the loss and validation accuracy."
   ]
  },
  {
   "cell_type": "code",
   "execution_count": 20,
   "metadata": {
    "collapsed": false,
    "deletable": true,
    "editable": true
   },
   "outputs": [],
   "source": [
    "def print_stats(session, feature_batch, label_batch, cost, accuracy):\n",
    "    \"\"\"\n",
    "    Print information about loss and validation accuracy\n",
    "    : session: Current TensorFlow session\n",
    "    : feature_batch: Batch of Numpy image data\n",
    "    : label_batch: Batch of Numpy label data\n",
    "    : cost: TensorFlow cost function\n",
    "    : accuracy: TensorFlow accuracy function\n",
    "    \"\"\"\n",
    "    # TODO: Implement Function\n",
    "    error = session.run(cost, feed_dict={x:feature_batch, y:label_batch, keep_prob:1.0}) \n",
    "    vacc = session.run(accuracy, feed_dict={x:valid_features, y:valid_labels, keep_prob:1.0})\n",
    "    print('Loss: {0} ... Validation accuracy: {1}'.format(error, vacc))"
   ]
  },
  {
   "cell_type": "markdown",
   "metadata": {
    "deletable": true,
    "editable": true
   },
   "source": [
    "### Hyperparameters\n",
    "Tune the following parameters:\n",
    "* Set `epochs` to the number of iterations until the network stops learning or start overfitting\n",
    "* Set `batch_size` to the highest number that your machine has memory for.  Most people set them to common sizes of memory:\n",
    " * 64\n",
    " * 128\n",
    " * 256\n",
    " * ...\n",
    "* Set `keep_probability` to the probability of keeping a node using dropout"
   ]
  },
  {
   "cell_type": "code",
   "execution_count": 52,
   "metadata": {
    "collapsed": true,
    "deletable": true,
    "editable": true
   },
   "outputs": [],
   "source": [
    "# TODO: Tune Parameters\n",
    "epochs = 25\n",
    "batch_size = 1024\n",
    "keep_probability = 0.5"
   ]
  },
  {
   "cell_type": "markdown",
   "metadata": {
    "deletable": true,
    "editable": true
   },
   "source": [
    "### Train on a Single CIFAR-10 Batch\n",
    "Instead of training the neural network on all the CIFAR-10 batches of data, let's use a single batch. This should save time while you iterate on the model to get a better accuracy.  Once the final validation accuracy is 50% or greater, run the model on all the data in the next section."
   ]
  },
  {
   "cell_type": "code",
   "execution_count": 53,
   "metadata": {
    "collapsed": false,
    "deletable": true,
    "editable": true
   },
   "outputs": [
    {
     "name": "stdout",
     "output_type": "stream",
     "text": [
      "Checking the Training on a Single Batch...\n",
      "Epoch  1, CIFAR-10 Batch 1:  Loss: 2.1681485176086426 ... Validation accuracy: 0.20999999344348907\n",
      "Epoch  2, CIFAR-10 Batch 1:  Loss: 2.0851917266845703 ... Validation accuracy: 0.2386000007390976\n",
      "Epoch  3, CIFAR-10 Batch 1:  Loss: 1.985849380493164 ... Validation accuracy: 0.3052000105381012\n",
      "Epoch  4, CIFAR-10 Batch 1:  Loss: 1.9168254137039185 ... Validation accuracy: 0.3294000029563904\n",
      "Epoch  5, CIFAR-10 Batch 1:  Loss: 1.8321917057037354 ... Validation accuracy: 0.3580000102519989\n",
      "Epoch  6, CIFAR-10 Batch 1:  Loss: 1.7590270042419434 ... Validation accuracy: 0.37220001220703125\n",
      "Epoch  7, CIFAR-10 Batch 1:  Loss: 1.7043758630752563 ... Validation accuracy: 0.39820000529289246\n",
      "Epoch  8, CIFAR-10 Batch 1:  Loss: 1.6483945846557617 ... Validation accuracy: 0.4129999876022339\n",
      "Epoch  9, CIFAR-10 Batch 1:  Loss: 1.5942723751068115 ... Validation accuracy: 0.4323999881744385\n",
      "Epoch 10, CIFAR-10 Batch 1:  Loss: 1.547996997833252 ... Validation accuracy: 0.4505999982357025\n",
      "Epoch 11, CIFAR-10 Batch 1:  Loss: 1.498402714729309 ... Validation accuracy: 0.4564000070095062\n",
      "Epoch 12, CIFAR-10 Batch 1:  Loss: 1.4586451053619385 ... Validation accuracy: 0.47679999470710754\n",
      "Epoch 13, CIFAR-10 Batch 1:  Loss: 1.4138953685760498 ... Validation accuracy: 0.48179998993873596\n",
      "Epoch 14, CIFAR-10 Batch 1:  Loss: 1.3789018392562866 ... Validation accuracy: 0.48840001225471497\n",
      "Epoch 15, CIFAR-10 Batch 1:  Loss: 1.3594980239868164 ... Validation accuracy: 0.49399998784065247\n",
      "Epoch 16, CIFAR-10 Batch 1:  Loss: 1.3050322532653809 ... Validation accuracy: 0.501800000667572\n",
      "Epoch 17, CIFAR-10 Batch 1:  Loss: 1.2864993810653687 ... Validation accuracy: 0.5080000162124634\n",
      "Epoch 18, CIFAR-10 Batch 1:  Loss: 1.261558175086975 ... Validation accuracy: 0.5153999924659729\n",
      "Epoch 19, CIFAR-10 Batch 1:  Loss: 1.2311538457870483 ... Validation accuracy: 0.5135999917984009\n",
      "Epoch 20, CIFAR-10 Batch 1:  Loss: 1.2062331438064575 ... Validation accuracy: 0.5149999856948853\n",
      "Epoch 21, CIFAR-10 Batch 1:  Loss: 1.1779389381408691 ... Validation accuracy: 0.5185999870300293\n",
      "Epoch 22, CIFAR-10 Batch 1:  Loss: 1.1540887355804443 ... Validation accuracy: 0.5231999754905701\n",
      "Epoch 23, CIFAR-10 Batch 1:  Loss: 1.1423909664154053 ... Validation accuracy: 0.5278000235557556\n",
      "Epoch 24, CIFAR-10 Batch 1:  Loss: 1.1151533126831055 ... Validation accuracy: 0.5353999733924866\n",
      "Epoch 25, CIFAR-10 Batch 1:  Loss: 1.1133794784545898 ... Validation accuracy: 0.5320000052452087\n"
     ]
    }
   ],
   "source": [
    "\"\"\"\n",
    "DON'T MODIFY ANYTHING IN THIS CELL\n",
    "\"\"\"\n",
    "print('Checking the Training on a Single Batch...')\n",
    "with tf.Session() as sess:\n",
    "    # Initializing the variables\n",
    "    sess.run(tf.global_variables_initializer())\n",
    "    \n",
    "    # Training cycle\n",
    "    for epoch in range(epochs):\n",
    "        batch_i = 1\n",
    "        for batch_features, batch_labels in helper.load_preprocess_training_batch(batch_i, batch_size):\n",
    "            train_neural_network(sess, optimizer, keep_probability, batch_features, batch_labels)\n",
    "        print('Epoch {:>2}, CIFAR-10 Batch {}:  '.format(epoch + 1, batch_i), end='')\n",
    "        print_stats(sess, batch_features, batch_labels, cost, accuracy)"
   ]
  },
  {
   "cell_type": "markdown",
   "metadata": {
    "deletable": true,
    "editable": true
   },
   "source": [
    "### Fully Train the Model\n",
    "Now that you got a good accuracy with a single CIFAR-10 batch, try it with all five batches."
   ]
  },
  {
   "cell_type": "code",
   "execution_count": 54,
   "metadata": {
    "collapsed": false,
    "deletable": true,
    "editable": true,
    "scrolled": true
   },
   "outputs": [
    {
     "name": "stdout",
     "output_type": "stream",
     "text": [
      "Training...\n",
      "Epoch  1, CIFAR-10 Batch 1:  Loss: 2.2449846267700195 ... Validation accuracy: 0.18459999561309814\n",
      "Epoch  1, CIFAR-10 Batch 2:  Loss: 2.181943655014038 ... Validation accuracy: 0.18219999969005585\n",
      "Epoch  1, CIFAR-10 Batch 3:  Loss: 2.0802643299102783 ... Validation accuracy: 0.2460000067949295\n",
      "Epoch  1, CIFAR-10 Batch 4:  Loss: 1.996355414390564 ... Validation accuracy: 0.2831999957561493\n",
      "Epoch  1, CIFAR-10 Batch 5:  Loss: 1.9268581867218018 ... Validation accuracy: 0.3172000050544739\n",
      "Epoch  2, CIFAR-10 Batch 1:  Loss: 1.8680874109268188 ... Validation accuracy: 0.3440000116825104\n",
      "Epoch  2, CIFAR-10 Batch 2:  Loss: 1.811569333076477 ... Validation accuracy: 0.36419999599456787\n",
      "Epoch  2, CIFAR-10 Batch 3:  Loss: 1.732136607170105 ... Validation accuracy: 0.3901999890804291\n",
      "Epoch  2, CIFAR-10 Batch 4:  Loss: 1.6973272562026978 ... Validation accuracy: 0.40220001339912415\n",
      "Epoch  2, CIFAR-10 Batch 5:  Loss: 1.6879879236221313 ... Validation accuracy: 0.39579999446868896\n",
      "Epoch  3, CIFAR-10 Batch 1:  Loss: 1.6668002605438232 ... Validation accuracy: 0.41620001196861267\n",
      "Epoch  3, CIFAR-10 Batch 2:  Loss: 1.6412758827209473 ... Validation accuracy: 0.42160001397132874\n",
      "Epoch  3, CIFAR-10 Batch 3:  Loss: 1.5793914794921875 ... Validation accuracy: 0.4350000023841858\n",
      "Epoch  3, CIFAR-10 Batch 4:  Loss: 1.5595074892044067 ... Validation accuracy: 0.4472000002861023\n",
      "Epoch  3, CIFAR-10 Batch 5:  Loss: 1.546401858329773 ... Validation accuracy: 0.4546000063419342\n",
      "Epoch  4, CIFAR-10 Batch 1:  Loss: 1.5466734170913696 ... Validation accuracy: 0.4564000070095062\n",
      "Epoch  4, CIFAR-10 Batch 2:  Loss: 1.4946277141571045 ... Validation accuracy: 0.46160000562667847\n",
      "Epoch  4, CIFAR-10 Batch 3:  Loss: 1.4714645147323608 ... Validation accuracy: 0.46160000562667847\n",
      "Epoch  4, CIFAR-10 Batch 4:  Loss: 1.4298605918884277 ... Validation accuracy: 0.48420000076293945\n",
      "Epoch  4, CIFAR-10 Batch 5:  Loss: 1.4362740516662598 ... Validation accuracy: 0.4864000082015991\n",
      "Epoch  5, CIFAR-10 Batch 1:  Loss: 1.4320441484451294 ... Validation accuracy: 0.4991999864578247\n",
      "Epoch  5, CIFAR-10 Batch 2:  Loss: 1.3896348476409912 ... Validation accuracy: 0.5045999884605408\n",
      "Epoch  5, CIFAR-10 Batch 3:  Loss: 1.3969799280166626 ... Validation accuracy: 0.492000013589859\n",
      "Epoch  5, CIFAR-10 Batch 4:  Loss: 1.3448009490966797 ... Validation accuracy: 0.5109999775886536\n",
      "Epoch  5, CIFAR-10 Batch 5:  Loss: 1.3474345207214355 ... Validation accuracy: 0.5080000162124634\n",
      "Epoch  6, CIFAR-10 Batch 1:  Loss: 1.3422093391418457 ... Validation accuracy: 0.5230000019073486\n",
      "Epoch  6, CIFAR-10 Batch 2:  Loss: 1.3051282167434692 ... Validation accuracy: 0.5275999903678894\n",
      "Epoch  6, CIFAR-10 Batch 3:  Loss: 1.2910295724868774 ... Validation accuracy: 0.52920001745224\n",
      "Epoch  6, CIFAR-10 Batch 4:  Loss: 1.2712299823760986 ... Validation accuracy: 0.5404000282287598\n",
      "Epoch  6, CIFAR-10 Batch 5:  Loss: 1.263495922088623 ... Validation accuracy: 0.5401999950408936\n",
      "Epoch  7, CIFAR-10 Batch 1:  Loss: 1.2973333597183228 ... Validation accuracy: 0.5284000039100647\n",
      "Epoch  7, CIFAR-10 Batch 2:  Loss: 1.2857409715652466 ... Validation accuracy: 0.5231999754905701\n",
      "Epoch  7, CIFAR-10 Batch 3:  Loss: 1.258039116859436 ... Validation accuracy: 0.5460000038146973\n",
      "Epoch  7, CIFAR-10 Batch 4:  Loss: 1.2314852476119995 ... Validation accuracy: 0.5483999848365784\n",
      "Epoch  7, CIFAR-10 Batch 5:  Loss: 1.2110233306884766 ... Validation accuracy: 0.5582000017166138\n",
      "Epoch  8, CIFAR-10 Batch 1:  Loss: 1.216995120048523 ... Validation accuracy: 0.5600000023841858\n",
      "Epoch  8, CIFAR-10 Batch 2:  Loss: 1.1885504722595215 ... Validation accuracy: 0.5600000023841858\n",
      "Epoch  8, CIFAR-10 Batch 3:  Loss: 1.171737790107727 ... Validation accuracy: 0.5703999996185303\n",
      "Epoch  8, CIFAR-10 Batch 4:  Loss: 1.1451162099838257 ... Validation accuracy: 0.579800009727478\n",
      "Epoch  8, CIFAR-10 Batch 5:  Loss: 1.1617902517318726 ... Validation accuracy: 0.5680000185966492\n",
      "Epoch  9, CIFAR-10 Batch 1:  Loss: 1.17610502243042 ... Validation accuracy: 0.5716000199317932\n",
      "Epoch  9, CIFAR-10 Batch 2:  Loss: 1.1633946895599365 ... Validation accuracy: 0.5748000144958496\n",
      "Epoch  9, CIFAR-10 Batch 3:  Loss: 1.1425460577011108 ... Validation accuracy: 0.5753999948501587\n",
      "Epoch  9, CIFAR-10 Batch 4:  Loss: 1.113846778869629 ... Validation accuracy: 0.5799999833106995\n",
      "Epoch  9, CIFAR-10 Batch 5:  Loss: 1.108086347579956 ... Validation accuracy: 0.5853999853134155\n",
      "Epoch 10, CIFAR-10 Batch 1:  Loss: 1.1276226043701172 ... Validation accuracy: 0.5839999914169312\n",
      "Epoch 10, CIFAR-10 Batch 2:  Loss: 1.10736882686615 ... Validation accuracy: 0.5848000049591064\n",
      "Epoch 10, CIFAR-10 Batch 3:  Loss: 1.0820703506469727 ... Validation accuracy: 0.5929999947547913\n",
      "Epoch 10, CIFAR-10 Batch 4:  Loss: 1.0691279172897339 ... Validation accuracy: 0.5997999906539917\n",
      "Epoch 10, CIFAR-10 Batch 5:  Loss: 1.0727880001068115 ... Validation accuracy: 0.5924000144004822\n",
      "Epoch 11, CIFAR-10 Batch 1:  Loss: 1.0871670246124268 ... Validation accuracy: 0.600600004196167\n",
      "Epoch 11, CIFAR-10 Batch 2:  Loss: 1.0636425018310547 ... Validation accuracy: 0.6014000177383423\n",
      "Epoch 11, CIFAR-10 Batch 3:  Loss: 1.0373907089233398 ... Validation accuracy: 0.6032000184059143\n",
      "Epoch 11, CIFAR-10 Batch 4:  Loss: 1.0549343824386597 ... Validation accuracy: 0.5961999893188477\n",
      "Epoch 11, CIFAR-10 Batch 5:  Loss: 1.0242488384246826 ... Validation accuracy: 0.6028000116348267\n",
      "Epoch 12, CIFAR-10 Batch 1:  Loss: 1.047795057296753 ... Validation accuracy: 0.6092000007629395\n",
      "Epoch 12, CIFAR-10 Batch 2:  Loss: 1.0291751623153687 ... Validation accuracy: 0.6082000136375427\n",
      "Epoch 12, CIFAR-10 Batch 3:  Loss: 0.998992919921875 ... Validation accuracy: 0.6182000041007996\n",
      "Epoch 12, CIFAR-10 Batch 4:  Loss: 1.0054335594177246 ... Validation accuracy: 0.6129999756813049\n",
      "Epoch 12, CIFAR-10 Batch 5:  Loss: 0.9921162128448486 ... Validation accuracy: 0.621999979019165\n",
      "Epoch 13, CIFAR-10 Batch 1:  Loss: 1.037688970565796 ... Validation accuracy: 0.6128000020980835\n",
      "Epoch 13, CIFAR-10 Batch 2:  Loss: 0.9898220896720886 ... Validation accuracy: 0.6187999844551086\n",
      "Epoch 13, CIFAR-10 Batch 3:  Loss: 0.9757684469223022 ... Validation accuracy: 0.6197999715805054\n",
      "Epoch 13, CIFAR-10 Batch 4:  Loss: 0.9649632573127747 ... Validation accuracy: 0.6141999959945679\n",
      "Epoch 13, CIFAR-10 Batch 5:  Loss: 0.9595019817352295 ... Validation accuracy: 0.6262000203132629\n",
      "Epoch 14, CIFAR-10 Batch 1:  Loss: 0.9967412948608398 ... Validation accuracy: 0.626800000667572\n",
      "Epoch 14, CIFAR-10 Batch 2:  Loss: 0.9474532604217529 ... Validation accuracy: 0.620199978351593\n",
      "Epoch 14, CIFAR-10 Batch 3:  Loss: 0.950612485408783 ... Validation accuracy: 0.6226000189781189\n",
      "Epoch 14, CIFAR-10 Batch 4:  Loss: 0.9422776103019714 ... Validation accuracy: 0.6266000270843506\n",
      "Epoch 14, CIFAR-10 Batch 5:  Loss: 0.9377365708351135 ... Validation accuracy: 0.6272000074386597\n",
      "Epoch 15, CIFAR-10 Batch 1:  Loss: 0.9673304557800293 ... Validation accuracy: 0.6284000277519226\n",
      "Epoch 15, CIFAR-10 Batch 2:  Loss: 0.9442418217658997 ... Validation accuracy: 0.6254000067710876\n",
      "Epoch 15, CIFAR-10 Batch 3:  Loss: 0.9158876538276672 ... Validation accuracy: 0.631600022315979\n",
      "Epoch 15, CIFAR-10 Batch 4:  Loss: 0.9084028601646423 ... Validation accuracy: 0.6403999924659729\n",
      "Epoch 15, CIFAR-10 Batch 5:  Loss: 0.900851309299469 ... Validation accuracy: 0.6371999979019165\n",
      "Epoch 16, CIFAR-10 Batch 1:  Loss: 0.9152202606201172 ... Validation accuracy: 0.6384000182151794\n",
      "Epoch 16, CIFAR-10 Batch 2:  Loss: 0.9049367904663086 ... Validation accuracy: 0.6381999850273132\n",
      "Epoch 16, CIFAR-10 Batch 3:  Loss: 0.88966965675354 ... Validation accuracy: 0.6358000040054321\n",
      "Epoch 16, CIFAR-10 Batch 4:  Loss: 0.8959627747535706 ... Validation accuracy: 0.6434000134468079\n",
      "Epoch 16, CIFAR-10 Batch 5:  Loss: 0.8715699911117554 ... Validation accuracy: 0.6417999863624573\n",
      "Epoch 17, CIFAR-10 Batch 1:  Loss: 0.909989058971405 ... Validation accuracy: 0.6439999938011169\n",
      "Epoch 17, CIFAR-10 Batch 2:  Loss: 0.9025682210922241 ... Validation accuracy: 0.628600001335144\n",
      "Epoch 17, CIFAR-10 Batch 3:  Loss: 0.8676961660385132 ... Validation accuracy: 0.6449999809265137\n",
      "Epoch 17, CIFAR-10 Batch 4:  Loss: 0.8660973310470581 ... Validation accuracy: 0.646399974822998\n",
      "Epoch 17, CIFAR-10 Batch 5:  Loss: 0.8492251634597778 ... Validation accuracy: 0.6460000276565552\n",
      "Epoch 18, CIFAR-10 Batch 1:  Loss: 0.9033375382423401 ... Validation accuracy: 0.6413999795913696\n",
      "Epoch 18, CIFAR-10 Batch 2:  Loss: 0.854964017868042 ... Validation accuracy: 0.6484000086784363\n",
      "Epoch 18, CIFAR-10 Batch 3:  Loss: 0.835331916809082 ... Validation accuracy: 0.6556000113487244\n",
      "Epoch 18, CIFAR-10 Batch 4:  Loss: 0.8486639261245728 ... Validation accuracy: 0.6528000235557556\n",
      "Epoch 18, CIFAR-10 Batch 5:  Loss: 0.8253674507141113 ... Validation accuracy: 0.65420001745224\n",
      "Epoch 19, CIFAR-10 Batch 1:  Loss: 0.8694378137588501 ... Validation accuracy: 0.6520000100135803\n",
      "Epoch 19, CIFAR-10 Batch 2:  Loss: 0.8373697996139526 ... Validation accuracy: 0.647599995136261\n",
      "Epoch 19, CIFAR-10 Batch 3:  Loss: 0.8269423842430115 ... Validation accuracy: 0.6499999761581421\n",
      "Epoch 19, CIFAR-10 Batch 4:  Loss: 0.8246791362762451 ... Validation accuracy: 0.6582000255584717\n",
      "Epoch 19, CIFAR-10 Batch 5:  Loss: 0.8081769943237305 ... Validation accuracy: 0.6502000093460083\n",
      "Epoch 20, CIFAR-10 Batch 1:  Loss: 0.8315607309341431 ... Validation accuracy: 0.6603999733924866\n",
      "Epoch 20, CIFAR-10 Batch 2:  Loss: 0.8192557096481323 ... Validation accuracy: 0.6557999849319458\n",
      "Epoch 20, CIFAR-10 Batch 3:  Loss: 0.7947610020637512 ... Validation accuracy: 0.6549999713897705\n",
      "Epoch 20, CIFAR-10 Batch 4:  Loss: 0.8128713369369507 ... Validation accuracy: 0.6561999917030334\n",
      "Epoch 20, CIFAR-10 Batch 5:  Loss: 0.7902117371559143 ... Validation accuracy: 0.6615999937057495\n",
      "Epoch 21, CIFAR-10 Batch 1:  Loss: 0.8218903541564941 ... Validation accuracy: 0.6632000207901001\n",
      "Epoch 21, CIFAR-10 Batch 2:  Loss: 0.7963758707046509 ... Validation accuracy: 0.6632000207901001\n",
      "Epoch 21, CIFAR-10 Batch 3:  Loss: 0.7865618467330933 ... Validation accuracy: 0.6582000255584717\n",
      "Epoch 21, CIFAR-10 Batch 4:  Loss: 0.7992258071899414 ... Validation accuracy: 0.6610000133514404\n",
      "Epoch 21, CIFAR-10 Batch 5:  Loss: 0.7627518177032471 ... Validation accuracy: 0.6632000207901001\n",
      "Epoch 22, CIFAR-10 Batch 1:  Loss: 0.8174178004264832 ... Validation accuracy: 0.6571999788284302\n",
      "Epoch 22, CIFAR-10 Batch 2:  Loss: 0.7828976511955261 ... Validation accuracy: 0.6633999943733215\n",
      "Epoch 22, CIFAR-10 Batch 3:  Loss: 0.7671744227409363 ... Validation accuracy: 0.6660000085830688\n",
      "Epoch 22, CIFAR-10 Batch 4:  Loss: 0.7831470966339111 ... Validation accuracy: 0.6643999814987183\n",
      "Epoch 22, CIFAR-10 Batch 5:  Loss: 0.7554926872253418 ... Validation accuracy: 0.6660000085830688\n",
      "Epoch 23, CIFAR-10 Batch 1:  Loss: 0.7732933163642883 ... Validation accuracy: 0.6696000099182129\n",
      "Epoch 23, CIFAR-10 Batch 2:  Loss: 0.7468021512031555 ... Validation accuracy: 0.6711999773979187\n",
      "Epoch 23, CIFAR-10 Batch 3:  Loss: 0.7405675053596497 ... Validation accuracy: 0.6728000044822693\n",
      "Epoch 23, CIFAR-10 Batch 4:  Loss: 0.7514742016792297 ... Validation accuracy: 0.6741999983787537\n",
      "Epoch 23, CIFAR-10 Batch 5:  Loss: 0.7210800647735596 ... Validation accuracy: 0.6746000051498413\n",
      "Epoch 24, CIFAR-10 Batch 1:  Loss: 0.7770938873291016 ... Validation accuracy: 0.6650000214576721\n",
      "Epoch 24, CIFAR-10 Batch 2:  Loss: 0.7632205486297607 ... Validation accuracy: 0.6624000072479248\n",
      "Epoch 24, CIFAR-10 Batch 3:  Loss: 0.7310084700584412 ... Validation accuracy: 0.6714000105857849\n",
      "Epoch 24, CIFAR-10 Batch 4:  Loss: 0.7589371800422668 ... Validation accuracy: 0.6690000295639038\n",
      "Epoch 24, CIFAR-10 Batch 5:  Loss: 0.7116910815238953 ... Validation accuracy: 0.6747999787330627\n",
      "Epoch 25, CIFAR-10 Batch 1:  Loss: 0.7855419516563416 ... Validation accuracy: 0.6588000059127808\n",
      "Epoch 25, CIFAR-10 Batch 2:  Loss: 0.7419152855873108 ... Validation accuracy: 0.6607999801635742\n",
      "Epoch 25, CIFAR-10 Batch 3:  Loss: 0.7210981249809265 ... Validation accuracy: 0.675000011920929\n",
      "Epoch 25, CIFAR-10 Batch 4:  Loss: 0.7403371930122375 ... Validation accuracy: 0.671999990940094\n",
      "Epoch 25, CIFAR-10 Batch 5:  Loss: 0.7286458611488342 ... Validation accuracy: 0.6606000065803528\n"
     ]
    }
   ],
   "source": [
    "\"\"\"\n",
    "DON'T MODIFY ANYTHING IN THIS CELL\n",
    "\"\"\"\n",
    "save_model_path = './image_classification'\n",
    "\n",
    "print('Training...')\n",
    "with tf.Session() as sess:\n",
    "    # Initializing the variables\n",
    "    sess.run(tf.global_variables_initializer())\n",
    "    \n",
    "    # Training cycle\n",
    "    for epoch in range(epochs):\n",
    "        # Loop over all batches\n",
    "        n_batches = 5\n",
    "        for batch_i in range(1, n_batches + 1):\n",
    "            for batch_features, batch_labels in helper.load_preprocess_training_batch(batch_i, batch_size):\n",
    "                train_neural_network(sess, optimizer, keep_probability, batch_features, batch_labels)\n",
    "            print('Epoch {:>2}, CIFAR-10 Batch {}:  '.format(epoch + 1, batch_i), end='')\n",
    "            print_stats(sess, batch_features, batch_labels, cost, accuracy)\n",
    "            \n",
    "    # Save Model\n",
    "    saver = tf.train.Saver()\n",
    "    save_path = saver.save(sess, save_model_path)"
   ]
  },
  {
   "cell_type": "markdown",
   "metadata": {
    "deletable": true,
    "editable": true
   },
   "source": [
    "# Checkpoint\n",
    "The model has been saved to disk.\n",
    "## Test Model\n",
    "Test your model against the test dataset.  This will be your final accuracy. You should have an accuracy greater than 50%. If you don't, keep tweaking the model architecture and parameters."
   ]
  },
  {
   "cell_type": "code",
   "execution_count": 55,
   "metadata": {
    "collapsed": false,
    "deletable": true,
    "editable": true
   },
   "outputs": [
    {
     "name": "stdout",
     "output_type": "stream",
     "text": [
      "INFO:tensorflow:Restoring parameters from ./image_classification\n",
      "Testing Accuracy: 0.6580735802650451\n",
      "\n"
     ]
    },
    {
     "data": {
      "image/png": "[encoded data removed]",
      "text/plain": [
       "<matplotlib.figure.Figure at 0x7f8020c7e748>"
      ]
     },
     "metadata": {
      "image/png": {
       "height": 319,
       "width": 355
      }
     },
     "output_type": "display_data"
    }
   ],
   "source": [
    "\"\"\"\n",
    "DON'T MODIFY ANYTHING IN THIS CELL\n",
    "\"\"\"\n",
    "%matplotlib inline\n",
    "%config InlineBackend.figure_format = 'retina'\n",
    "\n",
    "import tensorflow as tf\n",
    "import pickle\n",
    "import helper\n",
    "import random\n",
    "\n",
    "# Set batch size if not already set\n",
    "try:\n",
    "    if batch_size:\n",
    "        pass\n",
    "except NameError:\n",
    "    batch_size = 64\n",
    "\n",
    "save_model_path = './image_classification'\n",
    "n_samples = 4\n",
    "top_n_predictions = 3\n",
    "\n",
    "def test_model():\n",
    "    \"\"\"\n",
    "    Test the saved model against the test dataset\n",
    "    \"\"\"\n",
    "\n",
    "    test_features, test_labels = pickle.load(open('preprocess_test.p', mode='rb'))\n",
    "    loaded_graph = tf.Graph()\n",
    "\n",
    "    with tf.Session(graph=loaded_graph) as sess:\n",
    "        # Load model\n",
    "        loader = tf.train.import_meta_graph(save_model_path + '.meta')\n",
    "        loader.restore(sess, save_model_path)\n",
    "\n",
    "        # Get Tensors from loaded model\n",
    "        loaded_x = loaded_graph.get_tensor_by_name('x:0')\n",
    "        loaded_y = loaded_graph.get_tensor_by_name('y:0')\n",
    "        loaded_keep_prob = loaded_graph.get_tensor_by_name('keep_prob:0')\n",
    "        loaded_logits = loaded_graph.get_tensor_by_name('logits:0')\n",
    "        loaded_acc = loaded_graph.get_tensor_by_name('accuracy:0')\n",
    "        \n",
    "        # Get accuracy in batches for memory limitations\n",
    "        test_batch_acc_total = 0\n",
    "        test_batch_count = 0\n",
    "        \n",
    "        for test_feature_batch, test_label_batch in helper.batch_features_labels(test_features, test_labels, batch_size):\n",
    "            test_batch_acc_total += sess.run(\n",
    "                loaded_acc,\n",
    "                feed_dict={loaded_x: test_feature_batch, loaded_y: test_label_batch, loaded_keep_prob: 1.0})\n",
    "            test_batch_count += 1\n",
    "\n",
    "        print('Testing Accuracy: {}\\n'.format(test_batch_acc_total/test_batch_count))\n",
    "\n",
    "        # Print Random Samples\n",
    "        random_test_features, random_test_labels = tuple(zip(*random.sample(list(zip(test_features, test_labels)), n_samples)))\n",
    "        random_test_predictions = sess.run(\n",
    "            tf.nn.top_k(tf.nn.softmax(loaded_logits), top_n_predictions),\n",
    "            feed_dict={loaded_x: random_test_features, loaded_y: random_test_labels, loaded_keep_prob: 1.0})\n",
    "        helper.display_image_predictions(random_test_features, random_test_labels, random_test_predictions)\n",
    "\n",
    "\n",
    "test_model()"
   ]
  },
  {
   "cell_type": "markdown",
   "metadata": {
    "deletable": true,
    "editable": true
   },
   "source": [
    "## Why 50-80% Accuracy?\n",
    "You might be wondering why you can't get an accuracy any higher. First things first, 50% isn't bad for a simple CNN.  Pure guessing would get you 10% accuracy. However, you might notice people are getting scores [well above 80%](http://rodrigob.github.io/are_we_there_yet/build/classification_datasets_results.html#43494641522d3130).  That's because we haven't taught you all there is to know about neural networks. We still need to cover a few more techniques.\n",
    "## Submitting This Project\n",
    "When submitting this project, make sure to run all the cells before saving the notebook.  Save the notebook file as \"dlnd_image_classification.ipynb\" and save it as a HTML file under \"File\" -> \"Download as\".  Include the \"helper.py\" and \"problem_unittests.py\" files in your submission."
   ]
  }
 ],
 "metadata": {
  "anaconda-cloud": {},
  "kernelspec": {
   "display_name": "Python [default]",
   "language": "python",
   "name": "python3"
  },
  "language_info": {
   "codemirror_mode": {
    "name": "ipython",
    "version": 3
   },
   "file_extension": ".py",
   "mimetype": "text/x-python",
   "name": "python",
   "nbconvert_exporter": "python",
   "pygments_lexer": "ipython3",
   "version": "3.5.2"
  }
 },
 "nbformat": 4,
 "nbformat_minor": 0
}
